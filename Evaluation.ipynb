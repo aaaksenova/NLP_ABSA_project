{
  "nbformat": 4,
  "nbformat_minor": 0,
  "metadata": {
    "colab": {
      "name": "Evaluation.ipynb",
      "provenance": []
    },
    "kernelspec": {
      "name": "python3",
      "display_name": "Python 3"
    },
    "language_info": {
      "name": "python"
    }
  },
  "cells": [
    {
      "cell_type": "code",
      "execution_count": 1,
      "metadata": {
        "id": "RICm5dadh7OY"
      },
      "outputs": [],
      "source": [
        "gold_test_path = \"/content/drive/MyDrive/Colab Notebooks/Автобрея/project/dev_aspects.txt\"\n",
        "pred_test_path = \"/content/drive/MyDrive/Colab Notebooks/Автобрея/project/dev_pred_aspects_tds.txt\""
      ]
    },
    {
      "cell_type": "markdown",
      "source": [
        "**Оценка 1: accuracy по выделению упоминаний с категориями**"
      ],
      "metadata": {
        "id": "wmhv0EkRlZ0m"
      }
    },
    {
      "cell_type": "code",
      "source": [
        "from collections import defaultdict"
      ],
      "metadata": {
        "id": "REoFnzVclbyN"
      },
      "execution_count": 2,
      "outputs": []
    },
    {
      "cell_type": "code",
      "source": [
        "gold_aspect_cats = {}\n",
        "with open(gold_test_path) as fg:\n",
        "    for line in fg:\n",
        "        line = line.rstrip('\\r\\n').split('\\t')\n",
        "        if line[0] not in gold_aspect_cats:\n",
        "            gold_aspect_cats[line[0]] = {\"starts\":[], \"ends\":[], \"cats\":[], \"sents\":[]}\n",
        "        gold_aspect_cats[line[0]][\"starts\"].append(int(line[3]))\n",
        "        gold_aspect_cats[line[0]][\"ends\"].append(int(line[4]))\n",
        "        gold_aspect_cats[line[0]][\"cats\"].append(line[1])\n",
        "        gold_aspect_cats[line[0]][\"sents\"].append(line[5])"
      ],
      "metadata": {
        "id": "LnHAfhbzlf3T"
      },
      "execution_count": 3,
      "outputs": []
    },
    {
      "cell_type": "code",
      "source": [
        "full_match, partial_match, full_cat_match, partial_cat_match = 0, 0, 0, 0\n",
        "total = 0\n",
        "fully_matched_pairs = []\n",
        "partially_matched_pairs = []\n",
        "with open(pred_test_path) as fp:\n",
        "    for line in fp:    \n",
        "        total += 1\n",
        "        line = line.rstrip('\\r\\n').split('\\t')\n",
        "        start, end = int(line[3]), int(line[4])\n",
        "        category = line[1]\n",
        "        doc_gold_aspect_cats = gold_aspect_cats[line[0]]\n",
        "        if start in doc_gold_aspect_cats[\"starts\"]:\n",
        "            i = doc_gold_aspect_cats[\"starts\"].index(start)\n",
        "            if doc_gold_aspect_cats[\"ends\"][i] == end:\n",
        "                full_match += 1\n",
        "                if doc_gold_aspect_cats[\"cats\"][i] == category:\n",
        "                    full_cat_match += 1\n",
        "                else:\n",
        "                    partial_cat_match += 1\n",
        "                fully_matched_pairs.append(\n",
        "                    (\n",
        "                        [\n",
        "                            doc_gold_aspect_cats[\"starts\"][i], \n",
        "                            doc_gold_aspect_cats[\"ends\"][i], \n",
        "                            doc_gold_aspect_cats[\"cats\"][i],\n",
        "                            doc_gold_aspect_cats[\"sents\"][i]\n",
        "                        ],\n",
        "                        line\n",
        "                    )\n",
        "                )\n",
        "                continue\n",
        "        for s_pos in doc_gold_aspect_cats[\"starts\"]:\n",
        "            if start <= s_pos:\n",
        "                i = doc_gold_aspect_cats[\"starts\"].index(s_pos)\n",
        "                if doc_gold_aspect_cats[\"ends\"][i] == end:\n",
        "                    partial_match += 1\n",
        "                    partially_matched_pairs.append(\n",
        "                        (\n",
        "                            [\n",
        "                                doc_gold_aspect_cats[\"starts\"][i], \n",
        "                                doc_gold_aspect_cats[\"ends\"][i], \n",
        "                                doc_gold_aspect_cats[\"cats\"][i],\n",
        "                                doc_gold_aspect_cats[\"sents\"][i]\n",
        "                            ],\n",
        "                            line\n",
        "                        )\n",
        "                    )\n",
        "                    if doc_gold_aspect_cats[\"cats\"][i] == category:\n",
        "                        partial_cat_match += 1\n",
        "                    continue\n",
        "                matched = False\n",
        "                for e_pos in doc_gold_aspect_cats[\"ends\"][i:]:\n",
        "                    if s_pos <= end <= e_pos:\n",
        "                        partial_match += 1\n",
        "                        partially_matched_pairs.append(\n",
        "                            (\n",
        "                                [\n",
        "                                    doc_gold_aspect_cats[\"starts\"][i], \n",
        "                                    doc_gold_aspect_cats[\"ends\"][i], \n",
        "                                    doc_gold_aspect_cats[\"cats\"][i],\n",
        "                                    doc_gold_aspect_cats[\"sents\"][i]\n",
        "                                ],\n",
        "                                line\n",
        "                            )\n",
        "                        )\n",
        "                        if doc_gold_aspect_cats[\"cats\"][i] == category:\n",
        "                            partial_cat_match += 1\n",
        "                        matched = True\n",
        "                        break\n",
        "                if matched:\n",
        "                    break\n",
        "            if start > s_pos:\n",
        "                i = doc_gold_aspect_cats[\"starts\"].index(s_pos)\n",
        "                if start < doc_gold_aspect_cats[\"ends\"][i] <= end:\n",
        "                    partial_match += 1\n",
        "                    partially_matched_pairs.append(\n",
        "                        (\n",
        "                            [\n",
        "                                doc_gold_aspect_cats[\"starts\"][i], \n",
        "                                doc_gold_aspect_cats[\"ends\"][i], \n",
        "                                doc_gold_aspect_cats[\"cats\"][i],\n",
        "                                doc_gold_aspect_cats[\"sents\"][i]\n",
        "                            ],\n",
        "                            line\n",
        "                        )\n",
        "                    )\n",
        "                    if doc_gold_aspect_cats[\"cats\"][i] == category:\n",
        "                        partial_cat_match += 1\n",
        "                    break"
      ],
      "metadata": {
        "id": "W4qqEvp87vep"
      },
      "execution_count": 4,
      "outputs": []
    },
    {
      "cell_type": "code",
      "source": [
        "gold_size = sum([len(gold_aspect_cats[x][\"cats\"]) for x in gold_aspect_cats])"
      ],
      "metadata": {
        "id": "qpUjdJn2ljp-"
      },
      "execution_count": 5,
      "outputs": []
    },
    {
      "cell_type": "code",
      "source": [
        "print(f\"\"\"\n",
        "Full match precision: {full_match / total}\n",
        "Full match recall: {full_match / gold_size}\n",
        "Partial match ratio in pred: {(full_match + partial_match)  / total}\n",
        "Full category accuracy: {full_cat_match / total}\n",
        "Partial category accuracy: {(full_cat_match + partial_cat_match) / total}\n",
        "\"\"\")"
      ],
      "metadata": {
        "colab": {
          "base_uri": "https://localhost:8080/"
        },
        "id": "1anO2nIznvKx",
        "outputId": "e8103716-3db4-4299-8207-a724f999116b"
      },
      "execution_count": 6,
      "outputs": [
        {
          "output_type": "stream",
          "name": "stdout",
          "text": [
            "\n",
            "Full match precision: 0.9964285714285714\n",
            "Full match recall: 0.9378151260504202\n",
            "Partial match ratio in pred: 0.9991071428571429\n",
            "Full category accuracy: 0.9857142857142858\n",
            "Partial category accuracy: 0.9982142857142857\n",
            "\n"
          ]
        }
      ]
    },
    {
      "cell_type": "markdown",
      "source": [
        "**Оценка 2: accuracy по тональности упоминаний**"
      ],
      "metadata": {
        "id": "pMV21AVInvtp"
      }
    },
    {
      "cell_type": "code",
      "source": [
        "def sentiment_accuracy(matches):\n",
        "    matched_sentiment = 0.\n",
        "    for pair in matches:\n",
        "        *_, gold_s = pair[0]\n",
        "        *_, pred_s = pair[1]\n",
        "        if gold_s == pred_s:\n",
        "            matched_sentiment += 1\n",
        "    print(f\"Mention sentiment accuracy: {matched_sentiment / len(matches)}\")"
      ],
      "metadata": {
        "id": "VEsJzcJ2nyH7"
      },
      "execution_count": 7,
      "outputs": []
    },
    {
      "cell_type": "markdown",
      "source": [
        "Accuracy по полностью совпавшим упоминаниям:"
      ],
      "metadata": {
        "id": "4aGmT7D5n3jj"
      }
    },
    {
      "cell_type": "code",
      "source": [
        "sentiment_accuracy(fully_matched_pairs)"
      ],
      "metadata": {
        "colab": {
          "base_uri": "https://localhost:8080/"
        },
        "id": "aPJSGyF8n05A",
        "outputId": "fa3cff4a-7de2-48ac-8680-6d2ef419ccf9"
      },
      "execution_count": 8,
      "outputs": [
        {
          "output_type": "stream",
          "name": "stdout",
          "text": [
            "Mention sentiment accuracy: 0.5725806451612904\n"
          ]
        }
      ]
    },
    {
      "cell_type": "markdown",
      "source": [
        "Accuracy по частично совпавшим упоминаниям:"
      ],
      "metadata": {
        "id": "n7_H79xun69C"
      }
    },
    {
      "cell_type": "code",
      "source": [
        "sentiment_accuracy(partially_matched_pairs)"
      ],
      "metadata": {
        "colab": {
          "base_uri": "https://localhost:8080/"
        },
        "id": "w54FF2iyn8UX",
        "outputId": "af53a9e8-26f1-4a0f-d8b1-e19f0b8c5414"
      },
      "execution_count": 9,
      "outputs": [
        {
          "output_type": "stream",
          "name": "stdout",
          "text": [
            "Mention sentiment accuracy: 0.3333333333333333\n"
          ]
        }
      ]
    },
    {
      "cell_type": "markdown",
      "source": [
        "**Оценка 3: accuracy по тональности категории**"
      ],
      "metadata": {
        "id": "MNz3od3_n-Y5"
      }
    },
    {
      "cell_type": "code",
      "source": [
        "gold_test_cats_path = \"/content/drive/MyDrive/Colab Notebooks/Автобрея/project/dev_cats.txt\"\n",
        "pred_test_cats_path = \"/content/drive/MyDrive/Colab Notebooks/Автобрея/project/dev_pred_cats_tds.txt\""
      ],
      "metadata": {
        "id": "a57vUVg8oA10"
      },
      "execution_count": 10,
      "outputs": []
    },
    {
      "cell_type": "code",
      "source": [
        "with open ('/content/dev_pred_cats_tds.txt', 'w') as file:\n",
        "    with open(pred_test_cats_path) as f:\n",
        "        for line in f:\n",
        "            line = line.rstrip('\\r\\n').split('\\t')\n",
        "            line.pop(0)\n",
        "            for i in line:\n",
        "                new = str(i) + '\t'\n",
        "                file.write(new)"
      ],
      "metadata": {
        "id": "PZkhJNbgt0Mv"
      },
      "execution_count": 11,
      "outputs": []
    },
    {
      "cell_type": "code",
      "source": [
        "with open(gold_test_cats_path) as gc, open(pred_test_cats_path) as pc:\n",
        "    gold_labels = set(gc.readlines())\n",
        "    pred_labels = set(pc.readlines())\n",
        "    print(\n",
        "        \"Overall sentiment accuracy:\",\n",
        "        len(gold_labels & pred_labels) / len(gold_labels)\n",
        "    )"
      ],
      "metadata": {
        "colab": {
          "base_uri": "https://localhost:8080/"
        },
        "id": "w9HK47fioHdW",
        "outputId": "cb7493e0-22aa-4fa6-b233-9cbde55348d0"
      },
      "execution_count": 12,
      "outputs": [
        {
          "output_type": "stream",
          "name": "stdout",
          "text": [
            "Overall sentiment accuracy: 0.4084507042253521\n"
          ]
        }
      ]
    }
  ]
}